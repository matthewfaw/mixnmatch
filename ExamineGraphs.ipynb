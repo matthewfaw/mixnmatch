{
 "cells": [
  {
   "cell_type": "code",
   "execution_count": 1,
   "metadata": {
    "pycharm": {
     "is_executing": false
    }
   },
   "outputs": [],
   "source": [
    "import pickle, os\n",
    "import numpy as np\n",
    "from matplotlib import pyplot as plt\n",
    "import glob"
   ]
  },
  {
   "cell_type": "code",
   "execution_count": null,
   "outputs": [],
   "source": [
    "!ls ../gcloud_data/experiment_running"
   ],
   "metadata": {
    "collapsed": false,
    "pycharm": {
     "name": "#%%\n"
    }
   }
  },
  {
   "cell_type": "code",
   "execution_count": null,
   "outputs": [],
   "source": [
    "!pip install torch torchvision"
   ],
   "metadata": {
    "collapsed": false,
    "pycharm": {
     "name": "#%%\n"
    }
   }
  },
  {
   "cell_type": "code",
   "execution_count": 3,
   "metadata": {
    "pycharm": {
     "is_executing": false,
     "name": "#%%\n"
    }
   },
   "outputs": [],
   "source": [
    "def display_experiment(experiment_id, keys_to_filter, keys_to_keep, start_idx=0):\n",
    "    expers = glob.glob('../gcloud_data/experiment_running/{}/*'.format(experiment_id))\n",
    "    fmts=['rs-','bo-','k^-','gx-','cd-','mh-']\n",
    "    counter=0\n",
    "    for exper in expers:\n",
    "        exper_name = os.path.basename(exper)\n",
    "        pickle_files = glob.glob(exper + '/*.p')\n",
    "        for file_id, pfile in enumerate(pickle_files):\n",
    "            if np.any([filterkey in pfile for filterkey in keys_to_filter]):\n",
    "                continue\n",
    "            elif np.any([filterkey not in pfile for filterkey in keys_to_keep]):\n",
    "                continue\n",
    "            else:\n",
    "                print(\"Loading file:\",pfile)\n",
    "            with open(pfile, 'rb') as f:\n",
    "                print(pfile)\n",
    "                manager = pickle.load(f)\n",
    "                for idx, res in enumerate(manager.results):\n",
    "                    exper_setting = manager.experiment_settings_list[idx]\n",
    "                    avg_costs = np.average(res.actual_costs_all, axis=1)\n",
    "                    std_costs = np.std(res.actual_costs_all, axis=1)\n",
    "                    if \"coordinate-halving\" in pfile:\n",
    "                        label = \"TreeCH\"\n",
    "                    elif \"delaunay\" in pfile:\n",
    "                        label = \"TreeDP\"\n",
    "                    elif \"alpha-star\" in pfile:\n",
    "                        label = \"Genie\"\n",
    "                    elif \"tree-results\" in pfile:\n",
    "                        label = \"Tree results\"\n",
    "                    elif \"uniform_constant_1\" in pfile:\n",
    "                        label = \"Uniform1x\"\n",
    "                    elif \"uniform_constant_2\" in pfile:\n",
    "                        label = \"Uniform2x\"\n",
    "                    else:\n",
    "                        assert False\n",
    "                    plt.errorbar(avg_costs[start_idx:], res.vals_avg[start_idx:], xerr=std_costs[start_idx:], yerr=res.vals_std[start_idx:], fmt=fmts[counter], label=label)\n",
    "                    counter+=1\n",
    "    plt.xlabel(\"SGD Iteration budget\")\n",
    "    plt.ylabel(\"Test error\")\n",
    "    plt.legend(loc='center left', bbox_to_anchor=(1, 0.5))\n",
    "    plt.show()"
   ]
  },
  {
   "cell_type": "code",
   "source": [
    "experiment_name = \"<>\"\n",
    "display_experiment(experiment_name,['ACTUAL_MIXTURES'],[\"\"])"
   ],
   "metadata": {
    "collapsed": false,
    "pycharm": {
     "name": "#%%\n"
    }
   },
   "execution_count": null,
   "outputs": []
  },
  {
   "cell_type": "code",
   "execution_count": null,
   "outputs": [],
   "source": [
    "def get_experiments(experiment_ids, keys_to_filter, keys_to_keep, start_idx=0):\n",
    "    all_exp_res = {\n",
    "        \"TreeCH\": {},\n",
    "        \"TreeDP\": {},\n",
    "        \"Tree results\": {},\n",
    "        \"Uniform1x\": {},\n",
    "        \"Uniform2x\": {}\n",
    "    }\n",
    "    for experiment_id in experiment_ids:\n",
    "        expers = glob.glob('../gcloud_data/{}/*'.format(experiment_id))\n",
    "        fmts=['rs-','bo-','k^-','gx-','cd-','mh-']\n",
    "        counter=0\n",
    "        for exper in expers:\n",
    "            exper_name = os.path.basename(exper)\n",
    "            pickle_files = glob.glob(exper + '/*.p')\n",
    "            for file_id, pfile in enumerate(pickle_files):\n",
    "                if np.any([filterkey in pfile for filterkey in keys_to_filter]):\n",
    "                    continue\n",
    "                elif np.any([filterkey not in pfile for filterkey in keys_to_keep]):\n",
    "                    continue\n",
    "                else:\n",
    "                    print(\"Loading file:\",pfile)\n",
    "                with open(pfile, 'rb') as f:\n",
    "                    print(pfile)\n",
    "                    manager = pickle.load(f)\n",
    "                    for idx, res in enumerate(manager.results):\n",
    "                        exper_setting = manager.experiment_settings_list[idx]\n",
    "                        if \"coordinate-halving\" in pfile:\n",
    "                            label = \"TreeCH\"\n",
    "                        elif \"delaunay\" in pfile:\n",
    "                            label = \"TreeDP\"\n",
    "                        elif \"alpha-star\" in pfile:\n",
    "                            label = \"Genie\"\n",
    "                        elif \"tree-results\" in pfile:\n",
    "                            label = \"Tree results\"\n",
    "                        elif \"uniform_constant_1\" in pfile:\n",
    "                            label = \"Uniform1x\"\n",
    "                        elif \"uniform_constant_2\" in pfile:\n",
    "                            label = \"Uniform2x\"\n",
    "                        else:\n",
    "                            assert False\n",
    "                        all_exp_res[label][experiment_id] = {\n",
    "                            \"actual_costs_all\": res.actual_costs_all,\n",
    "                            \"vals_all\": res.vals_all,\n",
    "                            \"fmt\": fmts[counter]\n",
    "                        }\n",
    "                        counter+=1\n",
    "    return all_exp_res"
   ],
   "metadata": {
    "collapsed": false,
    "pycharm": {
     "name": "#%%\n"
    }
   }
  },
  {
   "cell_type": "code",
   "execution_count": null,
   "outputs": [],
   "source": [
    "experiment_names = ['<>']\n",
    "\n",
    "all_exp_res = get_experiments(experiment_names,['ACTUAL_MIXTURES'],[\"\"])"
   ],
   "metadata": {
    "collapsed": false,
    "pycharm": {
     "name": "#%%\n"
    }
   }
  },
  {
   "cell_type": "code",
   "execution_count": null,
   "outputs": [],
   "source": [
    "start_idx=0\n",
    "for label, info in all_exp_res.items():\n",
    "    print(label)\n",
    "    costs_all = None\n",
    "    vals_all = None\n",
    "    fmt = None\n",
    "    for exp_id, data in info.items():\n",
    "        fmt = data['fmt']\n",
    "        costs_all = np.hstack((costs_all, np.array(data['actual_costs_all']))) if costs_all is not None else np.array(data['actual_costs_all'])\n",
    "        print(costs_all.shape)\n",
    "        vals_all = np.hstack((vals_all, np.array(data['vals_all']))) if vals_all is not None else np.array(data['vals_all'])\n",
    "        print(vals_all.shape)\n",
    "        \n",
    "    print(np.average(costs_all, axis=1))\n",
    "    avg_costs = np.average(costs_all, axis=1)\n",
    "    std_costs = np.std(costs_all, axis=1)\n",
    "    avg_vals = np.average(vals_all, axis=1)\n",
    "    std_vals = np.std(vals_all, axis=1)\n",
    "    plt.errorbar(avg_costs[start_idx:], avg_vals[start_idx:], xerr=std_costs[start_idx:], yerr=std_vals[start_idx:], fmt=fmt, label=label)\n",
    "plt.xlabel(\"SGD Iteration budget\")\n",
    "plt.ylabel(\"Test error\")\n",
    "plt.legend(loc='center left', bbox_to_anchor=(1, 0.5))\n",
    "plt.show()\n"
   ],
   "metadata": {
    "collapsed": false,
    "pycharm": {
     "name": "#%%\n"
    }
   }
  }
 ],
 "metadata": {
  "kernelspec": {
   "name": "python3",
   "display_name": "Python 3",
   "language": "python"
  },
  "language_info": {
   "name": "python",
   "version": "3.7.3",
   "mimetype": "text/x-python",
   "codemirror_mode": {
    "name": "ipython",
    "version": 3
   },
   "pygments_lexer": "ipython3",
   "nbconvert_exporter": "python",
   "file_extension": ".py"
  },
  "pycharm": {
   "stem_cell": {
    "cell_type": "raw",
    "source": [],
    "metadata": {
     "collapsed": false
    }
   }
  }
 },
 "nbformat": 4,
 "nbformat_minor": 2
}