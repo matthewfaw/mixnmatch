{
 "cells": [
  {
   "cell_type": "code",
   "execution_count": 1,
   "metadata": {
    "pycharm": {
     "is_executing": false
    }
   },
   "outputs": [],
   "source": [
    "import pickle, os\n",
    "import numpy as np\n",
    "from matplotlib import pyplot as plt\n",
    "import glob"
   ]
  },
  {
   "cell_type": "code",
   "execution_count": null,
   "outputs": [],
   "source": [
    "!ls ../gcloud_data"
   ],
   "metadata": {
    "collapsed": false,
    "pycharm": {
     "name": "#%%\n"
    }
   }
  },
  {
   "cell_type": "code",
   "execution_count": null,
   "outputs": [],
   "source": [
    "!pip install torch torchvision"
   ],
   "metadata": {
    "collapsed": false,
    "pycharm": {
     "name": "#%%\n"
    }
   }
  },
  {
   "cell_type": "code",
   "execution_count": null,
   "outputs": [],
   "source": [
    "import torch"
   ],
   "metadata": {
    "collapsed": false,
    "pycharm": {
     "name": "#%%\n"
    }
   }
  },
  {
   "cell_type": "code",
   "execution_count": null,
   "outputs": [],
   "source": [
    "def get_experiments(experiment_ids, keys_to_filter, keys_to_keep, num_custom=0):\n",
    "    all_exp_res = {\n",
    "        \"Mix&MatchCH\": {},\n",
    "        \"Mix&MatchDP\": {},\n",
    "        \"Mix&Match+1.0Step\": {},\n",
    "        \"Genie\": {},\n",
    "        \"Uniform\": {},\n",
    "        \"Mix&MatchCH+0.1Step\": {},\n",
    "        \"Mix&MatchDP+0.1Step\": {}\n",
    "    }\n",
    "    for i in range(num_custom):\n",
    "        all_exp_res['Only'+str(i)] = {}\n",
    "    for experiment_id in experiment_ids:\n",
    "        expers = glob.glob('../gcloud_data/{}/*'.format(experiment_id))\n",
    "        for exper in expers:\n",
    "            exper_name = os.path.basename(exper)\n",
    "            pickle_files = glob.glob(exper + '/*.p')\n",
    "            for file_id, pfile in enumerate(pickle_files):\n",
    "                if np.any([filterkey in pfile for filterkey in keys_to_filter]):\n",
    "                    continue\n",
    "                elif np.any([filterkey not in pfile for filterkey in keys_to_keep]):\n",
    "                    continue\n",
    "                else:\n",
    "                    print(\"Loading file:\",pfile)\n",
    "                with open(pfile, 'rb') as f:\n",
    "                    manager = pickle.load(f)\n",
    "                    for idx, res in enumerate(manager.results):\n",
    "                        exper_setting = manager.experiment_settings_list[idx]\n",
    "                        if \"coordinate-halving__True\" in pfile:\n",
    "                            label = \"Mix&MatchCH+0.1Step\"\n",
    "                        elif \"coordinate-halving\" in pfile:\n",
    "                            label = \"Mix&MatchCH\"\n",
    "                        elif \"delaunay-partitioning__True\" in pfile:\n",
    "                            label = \"Mix&MatchDP+0.1Step\"\n",
    "                        elif \"delaunay\" in pfile:\n",
    "                            label = \"Mix&MatchDP\"\n",
    "                        elif \"alpha-star\" in pfile:\n",
    "                            label = \"Genie\"\n",
    "                        elif \"tree-results\" in pfile:\n",
    "                            label = \"Mix&Match+1.0Step\"\n",
    "                        elif \"uniform_constant\" in pfile:\n",
    "                            label = \"Uniform\"\n",
    "                        elif \"constant-mixture_constant\" in pfile:\n",
    "                            for i in range(num_custom):\n",
    "                                custom_id_list = ['0']*num_custom\n",
    "                                custom_id_list[i] = '1'\n",
    "                                custom_id = ','.join(custom_id_list)\n",
    "                                if \"custom_{}\".format(custom_id) in pfile:\n",
    "                                    label = \"Only\" + str(i)\n",
    "                                    break\n",
    "                        else:\n",
    "                            print(\"Skipping:\",pfile)\n",
    "                            continue\n",
    "                        accuracies_all = []\n",
    "                        for nodes in res.best_sols_all:\n",
    "                            accuracies = []\n",
    "                            for node in nodes:\n",
    "                                acc = 0\n",
    "                                with torch.no_grad():\n",
    "                                    for sample_batch, label_batch in node.mf_fn.test_dl:\n",
    "                                        sample_view = sample_batch.view(sample_batch.shape[0], -1)\n",
    "                                        _, preds = node.final_model(sample_view).max(1)\n",
    "                                        acc += (preds == label_batch).sum().item()\n",
    "                                accuracies.append(acc / len(node.mf_fn.test_dataset))\n",
    "                            accuracies_all.append(accuracies)\n",
    "                        all_exp_res[label][experiment_id] = {\n",
    "                            \"actual_costs_all\": res.actual_costs_all,\n",
    "                            \"vals_all\": res.vals_all,\n",
    "                            \"accuracies_all\": accuracies_all\n",
    "                        }\n",
    "    return all_exp_res"
   ],
   "metadata": {
    "collapsed": false,
    "pycharm": {
     "name": "#%%\n"
    }
   }
  },
  {
   "cell_type": "code",
   "execution_count": null,
   "outputs": [],
   "source": [
    "def plot_experiments(all_exp_res, start_idx=0, keys_to_exclude=[], stop_idx_tree=None, plot_accuracy=False):\n",
    "    # fmts=['rs-','bo-','k^-','gx-','cd-','mh-']\n",
    "    fmt = {\n",
    "        \"Uniform\": {\n",
    "            \"fmt\": \"^-\",\n",
    "            \"color\": \"xkcd:black\"\n",
    "        },\n",
    "        \"Mix&Match+1.0Step\": {\n",
    "            \"fmt\":\"o-\",\n",
    "            \"color\": \"xkcd:sky blue\"\n",
    "        },\n",
    "        \"Genie\": {\n",
    "            \"fmt\": \"s-\",\n",
    "            \"color\": \"xkcd:coral\"\n",
    "        },\n",
    "        \"Mix&MatchCH\": {\n",
    "            \"fmt\": \"x-\",\n",
    "            \"color\": \"xkcd:lavender\"\n",
    "        },\n",
    "        \"Mix&MatchCH+0.1Step\": {\n",
    "            \"fmt\":\"x-\",\n",
    "            \"color\": \"xkcd:olive\"\n",
    "        },\n",
    "        \"Mix&MatchDP\": {\n",
    "            \"fmt\": \"d-\",\n",
    "            \"color\": \"xkcd:plum\"\n",
    "        },\n",
    "        \"Mix&MatchDP+0.1Step\": {\n",
    "            \"fmt\":\"d-\",\n",
    "            \"color\": \"xkcd:sienna\"\n",
    "        }\n",
    "    }\n",
    "    for i in range(num_custom):\n",
    "        fmt['Only'+str(i)] = {\n",
    "            \"fmt\": \".-\",\n",
    "            \"color\": \"C{}\".format(i+1)\n",
    "        } \n",
    "\n",
    "    for label, info in all_exp_res.items():\n",
    "        if info == {}: continue\n",
    "        if np.any([key in label for key in keys_to_exclude]): continue\n",
    "        print(label)\n",
    "        costs_all = None\n",
    "        vals_all = None\n",
    "        accuracies_all = None\n",
    "        fmt_l = fmt[label]\n",
    "        for exp_id, data in info.items():\n",
    "            costs_all = np.hstack((costs_all, np.array(data['actual_costs_all']))) if costs_all is not None else np.array(data['actual_costs_all'])\n",
    "            print(costs_all.shape)\n",
    "            vals_all = np.hstack((vals_all, np.array(data['vals_all']))) if vals_all is not None else np.array(data['vals_all'])\n",
    "            print(vals_all.shape)\n",
    "            accuracies_all = np.hstack((accuracies_all, np.array(data['accuracies_all']))) if accuracies_all is not None else np.array(data['accuracies_all'])\n",
    "            print(accuracies_all.shape)\n",
    "            \n",
    "        if label == \"Mix&Match+1.0Step\":\n",
    "            costs_all *= 2\n",
    "        print(np.average(costs_all, axis=1))\n",
    "        avg_costs = np.average(costs_all, axis=1)\n",
    "        std_costs = np.std(costs_all, axis=1)\n",
    "        if plot_accuracy:\n",
    "            avg_vals = np.average(accuracies_all, axis=1)\n",
    "            std_vals = np.std(accuracies_all, axis=1)\n",
    "        else:\n",
    "            avg_vals = np.average(vals_all, axis=1)\n",
    "            std_vals = np.std(vals_all, axis=1)\n",
    "        if \"Mix&Match+1.0Step\" in label:\n",
    "            plt.errorbar(avg_costs[start_idx:stop_idx_tree], avg_vals[start_idx:stop_idx_tree], xerr=std_costs[start_idx:stop_idx_tree], yerr=std_vals[start_idx:stop_idx_tree], color=fmt_l['color'], fmt=fmt_l['fmt'], label=label)\n",
    "        else:\n",
    "            plt.errorbar(avg_costs[start_idx:], avg_vals[start_idx:], xerr=std_costs[start_idx:], yerr=std_vals[start_idx:], color=fmt_l['color'], fmt=fmt_l['fmt'], label=label)\n",
    "    plt.xlabel(\"SGD Iteration budget\")\n",
    "    if plot_accuracy:\n",
    "        plt.ylabel(\"Test accuracy\")\n",
    "    else:\n",
    "        plt.ylabel(\"Test error\")\n",
    "    plt.legend(loc='center left', bbox_to_anchor=(1, 0.5))\n",
    "    plt.show()"
   ],
   "metadata": {
    "collapsed": false,
    "pycharm": {
     "name": "#%%\n"
    }
   }
  },
  {
   "cell_type": "code",
   "execution_count": null,
   "outputs": [],
   "source": [
    "!ls ../gcloud_data"
   ],
   "metadata": {
    "collapsed": false,
    "pycharm": {
     "name": "#%%\n"
    }
   }
  },
  {
   "cell_type": "code",
   "execution_count": null,
   "outputs": [],
   "source": [
    "experiment_names = ['<>']\n",
    "num_custom = 4\n",
    "\n",
    "all_exp_res = get_experiments(experiment_names,['ACTUAL_MIXTURES'],[\"\"], num_custom=num_custom)\n"
   ],
   "metadata": {
    "collapsed": false,
    "pycharm": {
     "name": "#%%\n"
    }
   }
  },
  {
   "cell_type": "code",
   "execution_count": null,
   "outputs": [],
   "source": [
    "start_idx = 0\n",
    "keys_to_exclude=[]\n",
    "plot_experiments(all_exp_res, start_idx=start_idx, keys_to_exclude=keys_to_exclude)\n",
    "\n"
   ],
   "metadata": {
    "collapsed": false,
    "pycharm": {
     "name": "#%%\n"
    }
   }
  }
 ],
 "metadata": {
  "kernelspec": {
   "name": "python3",
   "display_name": "Python 3",
   "language": "python"
  },
  "language_info": {
   "name": "python",
   "version": "3.7.3",
   "mimetype": "text/x-python",
   "codemirror_mode": {
    "name": "ipython",
    "version": 3
   },
   "pygments_lexer": "ipython3",
   "nbconvert_exporter": "python",
   "file_extension": ".py"
  },
  "pycharm": {
   "stem_cell": {
    "cell_type": "raw",
    "source": [],
    "metadata": {
     "collapsed": false
    }
   }
  }
 },
 "nbformat": 4,
 "nbformat_minor": 2
}